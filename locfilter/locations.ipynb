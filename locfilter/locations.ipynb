{
    "cells": [
        {
            "cell_type": "code",
            "execution_count": 1,
            "source": [
                "import pandas as pd\n",
                "import numpy as np\n",
                "locations = pd.read_csv('worldcities.csv')\n",
                "\n",
                "data = {'city':[], 'country':[], 'lat':[], 'long':[], 'count':[]}\n",
                "\n",
                "df = pd.DataFrame(data)\n",
                "\n",
                "df[['city']] = locations[['city']]\n",
                "\n",
                "df[['country']] = locations[['country']]\n",
                "\n",
                "df[['lat']] = locations[['lat']]\n",
                "\n",
                "df[['long']] = locations[['lng']]\n",
                "\n",
                "\n",
                "df.drop(labels=0, axis=0)\n",
                "\n",
                "\n",
                "print(df)\n",
                "\n",
                "df.to_csv('cities.csv')"
            ],
            "outputs": [
                {
                    "output_type": "stream",
                    "name": "stdout",
                    "text": [
                        "              city      country      lat      long  count\n",
                        "0            Tokyo        Japan  35.6897  139.6922    NaN\n",
                        "1          Jakarta    Indonesia  -6.2146  106.8451    NaN\n",
                        "2            Delhi        India  28.6600   77.2300    NaN\n",
                        "3           Mumbai        India  18.9667   72.8333    NaN\n",
                        "4           Manila  Philippines  14.6000  120.9833    NaN\n",
                        "...            ...          ...      ...       ...    ...\n",
                        "40996       Tukchi       Russia  57.3670  139.5000    NaN\n",
                        "40997        Numto       Russia  63.6667   71.3333    NaN\n",
                        "40998         Nord    Greenland  81.7166  -17.8000    NaN\n",
                        "40999  Timmiarmiut    Greenland  62.5333  -42.2167    NaN\n",
                        "41000      Nordvik       Russia  74.0165  111.5100    NaN\n",
                        "\n",
                        "[41001 rows x 5 columns]\n"
                    ]
                }
            ],
            "metadata": {}
        }
    ],
    "metadata": {
        "orig_nbformat": 4,
        "language_info": {
            "name": "python",
            "version": "3.10.2",
            "mimetype": "text/x-python",
            "codemirror_mode": {
                "name": "ipython",
                "version": 3
            },
            "pygments_lexer": "ipython3",
            "nbconvert_exporter": "python",
            "file_extension": ".py"
        },
        "kernelspec": {
            "name": "python3",
            "display_name": "Python 3.10.2 64-bit"
        },
        "interpreter": {
            "hash": "e7370f93d1d0cde622a1f8e1c04877d8463912d04d973331ad4851f04de6915a"
        }
    },
    "nbformat": 4,
    "nbformat_minor": 2
}